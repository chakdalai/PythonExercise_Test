{
  "nbformat": 4,
  "nbformat_minor": 0,
  "metadata": {
    "colab": {
      "provenance": [],
      "authorship_tag": "ABX9TyOba0umYj6nWJN40lo8hId/",
      "include_colab_link": true
    },
    "kernelspec": {
      "name": "python3",
      "display_name": "Python 3"
    },
    "language_info": {
      "name": "python"
    }
  },
  "cells": [
    {
      "cell_type": "markdown",
      "metadata": {
        "id": "view-in-github",
        "colab_type": "text"
      },
      "source": [
        "<a href=\"https://colab.research.google.com/github/chakdalai/PythonExercise_Test/blob/main/Name1.ipynb\" target=\"_parent\"><img src=\"https://colab.research.google.com/assets/colab-badge.svg\" alt=\"Open In Colab\"/></a>"
      ]
    },
    {
      "cell_type": "code",
      "execution_count": 1,
      "metadata": {
        "colab": {
          "base_uri": "https://localhost:8080/"
        },
        "id": "G4mGp-I3BlXU",
        "outputId": "872b1ace-1333-4099-e810-60274c768492"
      },
      "outputs": [
        {
          "output_type": "stream",
          "name": "stdout",
          "text": [
            "Hello World Test to save in GitHub\n"
          ]
        }
      ],
      "source": [
        "print(\"Hello World Test to save in GitHub\")"
      ]
    },
    {
      "cell_type": "code",
      "source": [
        "print(\"Hello Colab Code\")"
      ],
      "metadata": {
        "id": "gyY12qpdHJwm",
        "outputId": "ed663d65-c92c-42b4-b66a-17f9921e2c8f",
        "colab": {
          "base_uri": "https://localhost:8080/"
        }
      },
      "execution_count": 2,
      "outputs": [
        {
          "output_type": "stream",
          "name": "stdout",
          "text": [
            "Hello Colab Code\n"
          ]
        }
      ]
    }
  ]
}